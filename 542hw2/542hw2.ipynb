{
 "cells": [
  {
   "cell_type": "code",
   "execution_count": 1,
   "source": [
    "import pandas as pd\n",
    "import numpy as np\n",
    "data = pd.read_csv('data_HW2.csv',header=None)\n",
    "print(data.head())\n",
    "data = np.array(data[0])\n",
    "print(data[:5])"
   ],
   "outputs": [
    {
     "output_type": "stream",
     "name": "stdout",
     "text": [
      "           0\n",
      "0   1.318862\n",
      "1   8.910563\n",
      "2  15.255239\n",
      "3   5.982215\n",
      "4   6.385356\n",
      "[ 1.31886194  8.91056291 15.25523856  5.98221545  6.38535571]\n"
     ]
    }
   ],
   "metadata": {}
  },
  {
   "cell_type": "code",
   "execution_count": 4,
   "source": [
    "# Compute estimates for the sample mean and sample variance \n",
    "# mymean = sum(data) / len(data) # piazza said sum() is built-in\n",
    "total, cnt = 0, 0\n",
    "for d in data:\n",
    "    total += d\n",
    "    cnt += 1\n",
    "mymean = total / cnt\n",
    "totalerr = 0\n",
    "for d in data: totalerr+= (d-mymean)**2\n",
    "myvar = totalerr / cnt\n",
    "print('Without inbuilt functions:','Sample mean is %f and sample variance is %f'%(mymean,myvar))\n",
    "npmean, npvar = np.mean(data), np.var(data)\n",
    "print('With inbuilt numpy functions:','Sample mean is %f and sample variance is %f'%(npmean,npvar))"
   ],
   "outputs": [
    {
     "output_type": "stream",
     "name": "stdout",
     "text": [
      "Without inbuilt functions: Sample mean is 4.234069 and sample variance is 18.185304\n",
      "With inbuilt numpy functions: Sample mean is 4.234069 and sample variance is 18.185304\n"
     ]
    }
   ],
   "metadata": {}
  },
  {
   "cell_type": "code",
   "execution_count": 14,
   "source": [
    "import scipy.stats as st\n",
    "st.norm.interval(alpha=0.90, loc=mymean, scale=0.25)"
   ],
   "outputs": [
    {
     "output_type": "execute_result",
     "data": {
      "text/plain": [
       "(3.8228558437678597, 4.645282657243596)"
      ]
     },
     "metadata": {},
     "execution_count": 14
    }
   ],
   "metadata": {}
  },
  {
   "cell_type": "code",
   "execution_count": null,
   "source": [],
   "outputs": [],
   "metadata": {}
  }
 ],
 "metadata": {
  "orig_nbformat": 4,
  "language_info": {
   "name": "python",
   "version": "3.8.8",
   "mimetype": "text/x-python",
   "codemirror_mode": {
    "name": "ipython",
    "version": 3
   },
   "pygments_lexer": "ipython3",
   "nbconvert_exporter": "python",
   "file_extension": ".py"
  },
  "kernelspec": {
   "name": "python3",
   "display_name": "Python 3.8.8 64-bit ('base': conda)"
  },
  "interpreter": {
   "hash": "dca0ade3e726a953b501b15e8e990130d2b7799f14cfd9f4271676035ebe5511"
  }
 },
 "nbformat": 4,
 "nbformat_minor": 2
}